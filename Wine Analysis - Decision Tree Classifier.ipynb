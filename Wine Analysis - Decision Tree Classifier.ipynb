{
 "cells": [
  {
   "cell_type": "code",
   "execution_count": 1,
   "id": "47ae9ecc",
   "metadata": {},
   "outputs": [
    {
     "name": "stdout",
     "output_type": "stream",
     "text": [
      "Requirement already satisfied: ucimlrepo in c:\\users\\asus\\anaconda3\\lib\\site-packages (0.0.3)\n",
      "Note: you may need to restart the kernel to use updated packages.\n"
     ]
    }
   ],
   "source": [
    "pip install ucimlrepo"
   ]
  },
  {
   "cell_type": "code",
   "execution_count": 2,
   "id": "81183231",
   "metadata": {},
   "outputs": [
    {
     "name": "stdout",
     "output_type": "stream",
     "text": [
      "{'uci_id': 186, 'name': 'Wine Quality', 'repository_url': 'https://archive.ics.uci.edu/dataset/186/wine+quality', 'data_url': 'https://archive.ics.uci.edu/static/public/186/data.csv', 'abstract': 'Two datasets are included, related to red and white vinho verde wine samples, from the north of Portugal. The goal is to model wine quality based on physicochemical tests (see [Cortez et al., 2009], http://www3.dsi.uminho.pt/pcortez/wine/).', 'area': 'Business', 'tasks': ['Classification', 'Regression'], 'characteristics': ['Multivariate'], 'num_instances': 4898, 'num_features': 11, 'feature_types': ['Real'], 'demographics': [], 'target_col': ['quality'], 'index_col': None, 'has_missing_values': 'no', 'missing_values_symbol': None, 'year_of_dataset_creation': 2009, 'last_updated': 'Thu Aug 10 2023', 'dataset_doi': '10.24432/C56S3T', 'creators': ['Paulo Cortez', 'A. Cerdeira', 'F. Almeida', 'T. Matos', 'J. Reis'], 'intro_paper': {'title': 'Modeling wine preferences by data mining from physicochemical properties', 'authors': 'P. Cortez, A. Cerdeira, Fernando Almeida, Telmo Matos, J. Reis', 'published_in': 'Decision Support Systems', 'year': 2009, 'url': 'https://www.semanticscholar.org/paper/Modeling-wine-preferences-by-data-mining-from-Cortez-Cerdeira/bf15a0ccc14ac1deb5cea570c870389c16be019c', 'doi': None}, 'additional_info': {'summary': 'The two datasets are related to red and white variants of the Portuguese \"Vinho Verde\" wine. For more details, consult: http://www.vinhoverde.pt/en/ or the reference [Cortez et al., 2009].  Due to privacy and logistic issues, only physicochemical (inputs) and sensory (the output) variables are available (e.g. there is no data about grape types, wine brand, wine selling price, etc.).\\n\\nThese datasets can be viewed as classification or regression tasks.  The classes are ordered and not balanced (e.g. there are many more normal wines than excellent or poor ones). Outlier detection algorithms could be used to detect the few excellent or poor wines. Also, we are not sure if all input variables are relevant. So it could be interesting to test feature selection methods.\\n', 'purpose': None, 'funded_by': None, 'instances_represent': None, 'recommended_data_splits': None, 'sensitive_data': None, 'preprocessing_description': None, 'variable_info': 'For more information, read [Cortez et al., 2009].\\r\\nInput variables (based on physicochemical tests):\\r\\n   1 - fixed acidity\\r\\n   2 - volatile acidity\\r\\n   3 - citric acid\\r\\n   4 - residual sugar\\r\\n   5 - chlorides\\r\\n   6 - free sulfur dioxide\\r\\n   7 - total sulfur dioxide\\r\\n   8 - density\\r\\n   9 - pH\\r\\n   10 - sulphates\\r\\n   11 - alcohol\\r\\nOutput variable (based on sensory data): \\r\\n   12 - quality (score between 0 and 10)', 'citation': None}}\n",
      "                    name     role        type demographic  \\\n",
      "0          fixed_acidity  Feature  Continuous        None   \n",
      "1       volatile_acidity  Feature  Continuous        None   \n",
      "2            citric_acid  Feature  Continuous        None   \n",
      "3         residual_sugar  Feature  Continuous        None   \n",
      "4              chlorides  Feature  Continuous        None   \n",
      "5    free_sulfur_dioxide  Feature  Continuous        None   \n",
      "6   total_sulfur_dioxide  Feature  Continuous        None   \n",
      "7                density  Feature  Continuous        None   \n",
      "8                     pH  Feature  Continuous        None   \n",
      "9              sulphates  Feature  Continuous        None   \n",
      "10               alcohol  Feature  Continuous        None   \n",
      "11               quality   Target     Integer        None   \n",
      "\n",
      "               description units missing_values  \n",
      "0                     None  None             no  \n",
      "1                     None  None             no  \n",
      "2                     None  None             no  \n",
      "3                     None  None             no  \n",
      "4                     None  None             no  \n",
      "5                     None  None             no  \n",
      "6                     None  None             no  \n",
      "7                     None  None             no  \n",
      "8                     None  None             no  \n",
      "9                     None  None             no  \n",
      "10                    None  None             no  \n",
      "11  score between 0 and 10  None             no  \n"
     ]
    }
   ],
   "source": [
    "from ucimlrepo import fetch_ucirepo \n",
    "  \n",
    "# fetch dataset \n",
    "wine_quality = fetch_ucirepo(id=186) \n",
    "  \n",
    "# data (as pandas dataframes) \n",
    "X = wine_quality.data.features \n",
    "y = wine_quality.data.targets \n",
    "  \n",
    "# metadata \n",
    "print(wine_quality.metadata) \n",
    "  \n",
    "# variable information \n",
    "print(wine_quality.variables) \n"
   ]
  },
  {
   "cell_type": "code",
   "execution_count": 59,
   "id": "f28bcd82",
   "metadata": {},
   "outputs": [],
   "source": [
    "Y = y['quality'].apply(lambda y_value :1 if y_value>= 7 else 0 )"
   ]
  },
  {
   "cell_type": "code",
   "execution_count": 60,
   "id": "bcd7d072",
   "metadata": {},
   "outputs": [
    {
     "name": "stdout",
     "output_type": "stream",
     "text": [
      "0       0\n",
      "1       0\n",
      "2       0\n",
      "3       0\n",
      "4       0\n",
      "       ..\n",
      "4893    0\n",
      "4894    0\n",
      "4895    0\n",
      "4896    1\n",
      "4897    0\n",
      "Name: quality, Length: 4898, dtype: int64\n"
     ]
    }
   ],
   "source": [
    "print(Y)"
   ]
  },
  {
   "cell_type": "code",
   "execution_count": 15,
   "id": "95b0b155",
   "metadata": {},
   "outputs": [],
   "source": [
    "import pandas as pd\n",
    "import numpy as np\n",
    "import matplotlib.pyplot as plt\n",
    "from sklearn.model_selection import train_test_split , GridSearchCV , KFold\n",
    "from sklearn.linear_model import LinearRegression , Ridge , Lasso\n",
    "from sklearn.tree import DecisionTreeClassifier\n",
    "from sklearn.preprocessing import StandardScaler\n",
    "from sklearn.metrics import mean_squared_error , r2_score , mean_absolute_error , accuracy_score"
   ]
  },
  {
   "cell_type": "code",
   "execution_count": 61,
   "id": "20e67665",
   "metadata": {},
   "outputs": [],
   "source": [
    "X_train , X_test , y_train ,y_test = train_test_split ( X, Y , test_size = 0.2 ,random_state = 42  )"
   ]
  },
  {
   "cell_type": "code",
   "execution_count": 62,
   "id": "b9d58f47",
   "metadata": {},
   "outputs": [
    {
     "data": {
      "text/plain": [
       "array([[ 0.51511931, -1.07623315,  0.22773076, ..., -0.32826101,\n",
       "        -0.70244474,  1.54037099],\n",
       "       [-0.66918809, -0.28877673,  0.89583195, ..., -0.06188569,\n",
       "         0.26607415, -0.82171197],\n",
       "       [-1.49820327,  0.40024764, -0.02280718, ...,  0.40427112,\n",
       "         0.00193263,  0.48150622],\n",
       "       ...,\n",
       "       [ 0.87041153, -0.09191263,  1.56393313, ..., -1.12738698,\n",
       "         0.35412132,  0.72585963],\n",
       "       [-0.66918809, -0.38720878, -0.35685777, ..., -0.12847952,\n",
       "        -0.96658625,  0.07425053],\n",
       "       [ 1.46256523, -0.09191263,  0.14421812, ...,  0.20448963,\n",
       "         1.23459303, -0.08865174]])"
      ]
     },
     "execution_count": 62,
     "metadata": {},
     "output_type": "execute_result"
    }
   ],
   "source": [
    "scaler = StandardScaler()\n",
    "standardized_scaler = scaler.fit_transform( X_train , y_train)\n",
    "standardized_scaler"
   ]
  },
  {
   "cell_type": "code",
   "execution_count": 63,
   "id": "f28fb162",
   "metadata": {},
   "outputs": [
    {
     "data": {
      "text/plain": [
       "array([[-0.96860107,  0.16580424,  0.55633228, ..., -0.61083071,\n",
       "         0.85930445,  0.34699202],\n",
       "       [-1.68275458,  2.63085845, -1.43143802, ...,  0.10273182,\n",
       "         0.34314241,  2.14625251],\n",
       "       [ 0.34068038, -0.24503813,  0.39731066, ...,  0.62168639,\n",
       "        -0.51712765,  1.34061348],\n",
       "       ...,\n",
       "       [-1.08762665, -0.14232753, -1.03388396, ...,  0.62168639,\n",
       "        -0.51712765, -0.83461189],\n",
       "       [ 0.81678272,  0.16580424, -0.23877584, ..., -0.67570003,\n",
       "         0.42916942, -0.99573969],\n",
       "       [-0.13542197, -0.5531699 ,  0.39731066, ...,  2.04881146,\n",
       "        -0.17301962, -0.43179238]])"
      ]
     },
     "execution_count": 63,
     "metadata": {},
     "output_type": "execute_result"
    }
   ],
   "source": [
    "scaler = StandardScaler()\n",
    "standard_scaler = scaler.fit_transform( X_test, y_test)\n",
    "standard_scaler"
   ]
  },
  {
   "cell_type": "code",
   "execution_count": 136,
   "id": "78cc3f7e",
   "metadata": {},
   "outputs": [],
   "source": [
    "model_name = 'Decision Tree Classifier'\n",
    "model = DecisionTreeClassifier()\n",
    "model.fit(X_train ,y_train)\n",
    "params = {'criterion' : ['gini', 'entropy'], \n",
    "          'max_depth' : [10,20,30] ,\n",
    "          'min_samples_split' : [2,5,10],\n",
    "          'min_samples_leaf': [1, 2, 4],\n",
    "         'ccp_alpha': [0.01, 0.01, 0.01]}"
   ]
  },
  {
   "cell_type": "code",
   "execution_count": 137,
   "id": "a4a04a9c",
   "metadata": {},
   "outputs": [
    {
     "name": "stdout",
     "output_type": "stream",
     "text": [
      "Fitting 5 folds for each of 162 candidates, totalling 810 fits\n",
      "Best Hyperparameters: {'ccp_alpha': 0.01, 'criterion': 'entropy', 'max_depth': 10, 'min_samples_leaf': 1, 'min_samples_split': 2}\n",
      "Accuracy on Test Data: 0.7806122448979592\n",
      "Accuracy on Train Data: 0.7914752424706483\n"
     ]
    }
   ],
   "source": [
    "kf = KFold(n_splits=5, shuffle=True, random_state=42)\n",
    "grid_search = GridSearchCV(model, params, scoring='accuracy', n_jobs=-1, cv=kf, verbose=3)\n",
    "grid_search.fit(X_train, y_train)\n",
    "best_model = grid_search.best_estimator_\n",
    "y_pred = best_model.predict(X_test)\n",
    "best_params = grid_search.best_params_\n",
    "print(f\"Best Hyperparameters: {best_params}\")\n",
    "y_train_pred = best_model.predict(X_train)\n",
    "accuracy = accuracy_score(y_test, y_pred)\n",
    "print(f\"Accuracy on Test Data: {accuracy}\")\n",
    "\n",
    "accuracy2 = accuracy_score( y_train , y_train_pred)\n",
    "print(f\"Accuracy on Train Data: {accuracy2}\")\n"
   ]
  },
  {
   "cell_type": "code",
   "execution_count": null,
   "id": "5bc488fd",
   "metadata": {},
   "outputs": [],
   "source": []
  }
 ],
 "metadata": {
  "kernelspec": {
   "display_name": "Python 3 (ipykernel)",
   "language": "python",
   "name": "python3"
  },
  "language_info": {
   "codemirror_mode": {
    "name": "ipython",
    "version": 3
   },
   "file_extension": ".py",
   "mimetype": "text/x-python",
   "name": "python",
   "nbconvert_exporter": "python",
   "pygments_lexer": "ipython3",
   "version": "3.9.13"
  }
 },
 "nbformat": 4,
 "nbformat_minor": 5
}
